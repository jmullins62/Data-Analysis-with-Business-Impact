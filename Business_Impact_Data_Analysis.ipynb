{
  "nbformat": 4,
  "nbformat_minor": 5,
  "metadata": {
    "noteable-chatgpt": {
      "create_notebook": {
        "openai_conversation_id": "bccea9fd-d4b5-5542-9dd7-f301a8fbb241",
        "openai_ephemeral_user_id": "86089a0f-95a6-541e-a7b8-e17f12c6f714",
        "openai_subdivision1_iso_code": "US-TX"
      }
    },
    "kernel_info": {
      "name": "python3"
    },
    "noteable": {
      "last_transaction_id": "a39e2875-2ade-41aa-a9b2-1d1f99775ff5"
    },
    "kernelspec": {
      "display_name": "Python 3.9",
      "language": "python",
      "name": "python3"
    },
    "selected_hardware_size": "small"
  },
  "cells": [
    {
      "id": "1038e5e6-98ad-41fa-bd0e-0a395d6a3176",
      "cell_type": "code",
      "metadata": {
        "noteable": {
          "cell_type": "code",
          "output_collection_id": "e317c20d-4eff-4173-8b2c-3ca2c9e1ddcd"
        },
        "ExecuteTime": {
          "end_time": "2023-08-02T19:53:39.111293+00:00",
          "start_time": "2023-08-02T19:53:38.898341+00:00"
        },
        "datalink": {
          "5a5190bd-ce6b-4441-841e-d140fe7f0695": {
            "applied_filters": [],
            "dataframe_info": {
              "default_index_used": true,
              "orig_num_cols": 5,
              "orig_num_rows": 5,
              "orig_size_bytes": 240,
              "truncated_num_cols": 5,
              "truncated_num_rows": 5,
              "truncated_size_bytes": 240,
              "truncated_string_columns": []
            },
            "display_id": "5a5190bd-ce6b-4441-841e-d140fe7f0695",
            "dx_settings": {
              "ALLOW_NOTEABLE_ATTRS": true,
              "COLUMN_SAMPLING_METHOD": "outer",
              "DB_LOCATION": ":memory:",
              "DEV_MODE": false,
              "DISPLAY_MAX_COLUMNS": 100,
              "DISPLAY_MAX_ROWS": 50000,
              "DISPLAY_MODE": "simple",
              "ENABLE_ASSIGNMENT": true,
              "ENABLE_DATALINK": true,
              "FLATTEN_COLUMN_VALUES": true,
              "FLATTEN_INDEX_VALUES": false,
              "GENERATE_DEX_METADATA": false,
              "HTML_TABLE_SCHEMA": false,
              "LOG_LEVEL": 30,
              "MAX_RENDER_SIZE_BYTES": 104857600,
              "MAX_STRING_LENGTH": 250,
              "NUM_PAST_SAMPLES_TRACKED": 3,
              "RANDOM_STATE": 12648430,
              "RESET_INDEX_VALUES": false,
              "ROW_SAMPLING_METHOD": "random",
              "SAMPLING_FACTOR": 0.1,
              "SAMPLING_METHOD": "random",
              "STRINGIFY_COLUMN_VALUES": true,
              "STRINGIFY_INDEX_VALUES": false
            },
            "sample_history": [],
            "sampling_time": "2023-08-02T19:53:38.951584",
            "user_variable_name": null,
            "variable_name": "unk_dataframe_11e8b799cd0c4d20a9df271c0c233c8b"
          }
        }
      },
      "execution_count": null,
      "source": "import pandas as pd\nimport numpy as np\n\n# Set a seed for reproducibility\nnp.random.seed(0)\n\n# Generate a list of random dates within a specified date range\ndate_range = pd.date_range(start='1/1/2020', end='12/31/2020')\nrandom_dates = np.random.choice(date_range, 1000)\n\n# Generate a list of random products\nproducts = ['Product ' + str(i) for i in range(1, 11)]\nrandom_products = np.random.choice(products, 1000)\n\n# Generate a list of random customers\ncustomers = ['Customer ' + str(i) for i in range(1, 101)]\nrandom_customers = np.random.choice(customers, 1000)\n\n# Generate a list of random quantities\nrandom_quantities = np.random.randint(1, 10, 1000)\n\n# Generate a list of random prices\nrandom_prices = np.random.uniform(10.0, 100.0, 1000)\n\n# Create a dataframe\ndf = pd.DataFrame({'Date': random_dates, 'Product': random_products, 'Customer': random_customers, 'Quantity': random_quantities, 'Price': random_prices})\n\n# Display the first few rows of the dataframe\ndf.head()",
      "outputs": []
    },
    {
      "id": "63af7156-8441-4bb1-bdea-7f1a686a3969",
      "cell_type": "code",
      "metadata": {
        "noteable": {
          "cell_type": "code",
          "output_collection_id": "ec4b9481-815e-44a1-84d2-74a55fc30e65"
        },
        "ExecuteTime": {
          "end_time": "2023-08-02T19:54:27.631576+00:00",
          "start_time": "2023-08-02T19:54:27.459205+00:00"
        }
      },
      "execution_count": null,
      "source": "# Display the shape of the dataframe\nprint('Shape:', df.shape)\n\n# Display the data types of the columns\nprint('\\nData Types:')\nprint(df.dtypes)\n\n# Display the number of unique values in each column\nprint('\\nNumber of Unique Values:')\nprint(df.nunique())\n\n# Display the number of missing values in each column\nprint('\\nNumber of Missing Values:')\nprint(df.isnull().sum())\n\n# Display the descriptive statistics for the numerical columns\nprint('\\nDescriptive Statistics:')\nprint(df.describe())",
      "outputs": []
    },
    {
      "id": "1cc992d1-75f1-4e0d-ad99-d90bad7b0ef1",
      "cell_type": "code",
      "metadata": {
        "noteable": {
          "cell_type": "code",
          "output_collection_id": "893609ee-a560-4b0b-a211-deeaf8817714"
        },
        "ExecuteTime": {
          "end_time": "2023-08-02T19:55:26.507223+00:00",
          "start_time": "2023-08-02T19:55:26.338119+00:00"
        }
      },
      "execution_count": null,
      "source": "# Calculate the total sales for each product\ndf['Total Sales'] = df['Quantity'] * df['Price']\nproduct_sales = df.groupby('Product')['Total Sales'].sum().sort_values(ascending=False)\n\n# Display the products with the highest total sales\nprint('Products with the Highest Total Sales:')\nprint(product_sales)\n\n# Calculate the total sales for each customer\ncustomer_sales = df.groupby('Customer')['Total Sales'].sum().sort_values(ascending=False)\n\n# Display the customers with the highest total sales\nprint('\\nCustomers with the Highest Total Sales:')\nprint(customer_sales)\n\n# Calculate the total sales for each month\ndf['Month'] = df['Date'].dt.month\nmonthly_sales = df.groupby('Month')['Total Sales'].sum()\n\n# Display the months with the highest total sales\nprint('\\nMonths with the Highest Total Sales:')\nprint(monthly_sales)",
      "outputs": []
    }
  ]
}